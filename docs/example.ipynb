{
    "cells": [
        {
            "cell_type": "markdown",
            "metadata": {},
            "source": [
                "# Example usage\n",
                "\n",
                "Here we will demonstrate how to use `autogam` to quickly fit a generalized additive model (GAM)\n",
                "\n",
                "## Imports"
            ]
        },
        {
            "cell_type": "code",
            "execution_count": 2,
            "metadata": {},
            "outputs": [],
            "source": [
                "import numpy as np\n",
                "import pandas as pd\n",
                "from autogam.autogam import AutoGAM\n",
                "from statsmodels.gam.tests.test_penalized import df_autos\n"
            ]
        },
        {
            "cell_type": "markdown",
            "metadata": {},
            "source": [
                "## Create an AutoGAM\n",
                "\n",
                "We'll use the `df_autos` dataset from `statsmodels` to create an automated generalized additive model (AutoGAM):"
            ]
        },
        {
            "cell_type": "code",
            "execution_count": 3,
            "metadata": {},
            "outputs": [
                {
                    "name": "stdout",
                    "output_type": "stream",
                    "text": [
                        "                 Generalized Linear Model Regression Results                  \n",
                        "==============================================================================\n",
                        "Dep. Variable:               city_mpg   No. Observations:                  203\n",
                        "Model:                         GLMGam   Df Residuals:                   181.00\n",
                        "Model Family:                Gaussian   Df Model:                        21.00\n",
                        "Link Function:               Identity   Scale:                          4.6385\n",
                        "Method:                         PIRLS   Log-Likelihood:                -432.14\n",
                        "Date:                Mon, 20 Jan 2025   Deviance:                       839.56\n",
                        "Time:                        21:40:01   Pearson chi2:                     840.\n",
                        "No. Iterations:                     3   Pseudo R-squ. (CS):             0.9998\n",
                        "Covariance Type:            nonrobust                                         \n",
                        "================================================================================\n",
                        "                   coef    std err          z      P>|z|      [0.025      0.975]\n",
                        "--------------------------------------------------------------------------------\n",
                        "Intercept       52.1723      2.494     20.920      0.000      47.284      57.060\n",
                        "fuel[T.gas]     -6.1417      0.770     -7.973      0.000      -7.652      -4.632\n",
                        "drive[T.fwd]     1.4071      0.832      1.691      0.091      -0.224       3.038\n",
                        "drive[T.rwd]     1.1525      0.837      1.377      0.169      -0.488       2.794\n",
                        "weight_s0       -0.9070      6.790     -0.134      0.894     -14.215      12.401\n",
                        "weight_s1      -19.6731      4.762     -4.131      0.000     -29.007     -10.340\n",
                        "weight_s2      -18.1841      4.902     -3.710      0.000     -27.792      -8.576\n",
                        "weight_s3      -21.4778      4.841     -4.437      0.000     -30.965     -11.990\n",
                        "weight_s4      -21.8161      5.011     -4.353      0.000     -31.638     -11.994\n",
                        "weight_s5      -22.9279      4.945     -4.637      0.000     -32.619     -13.237\n",
                        "weight_s6      -23.4561      5.255     -4.463      0.000     -33.757     -13.156\n",
                        "weight_s7      -29.7925      5.596     -5.324      0.000     -40.761     -18.824\n",
                        "weight_s8      -25.6959      5.138     -5.001      0.000     -35.766     -15.625\n",
                        "hp_s0            7.6237      6.831      1.116      0.264      -5.765      21.013\n",
                        "hp_s1            2.6187      4.045      0.647      0.517      -5.309      10.547\n",
                        "hp_s2           -1.1874      4.758     -0.250      0.803     -10.514       8.139\n",
                        "hp_s3            0.3401      4.398      0.077      0.938      -8.280       8.961\n",
                        "hp_s4           -4.5402      4.505     -1.008      0.314     -13.370       4.290\n",
                        "hp_s5           -2.5628      4.527     -0.566      0.571     -11.436       6.310\n",
                        "hp_s6           -9.1799      5.102     -1.799      0.072     -19.180       0.820\n",
                        "hp_s7           -6.2659      5.860     -1.069      0.285     -17.752       5.220\n",
                        "hp_s8           -5.7714      5.049     -1.143      0.253     -15.667       4.124\n",
                        "================================================================================\n",
                        "<autogam.autogam.AutoGAM object at 0x000002CB1EE71340>\n",
                        "<statsmodels.gam.generalized_additive_model.GLMGamResultsWrapper object at 0x000002CB1EDB63C0>\n",
                        "Performance Metrics:\n",
                        "mae: 1.503\n",
                        "mad: 5.247\n",
                        "rmse: 2.034\n",
                        "sd: 6.554\n"
                    ]
                }
            ],
            "source": [
                "ag_autos = AutoGAM(df_autos, 'city_mpg')\n",
                "\n",
                "# Display the model summary\n",
                "ag_autos.summary()\n",
                "\n",
                "# Display the performance metrics\n",
                "ag_autos.print()"
            ]
        }
    ],
    "metadata": {
        "kernelspec": {
            "display_name": "Python 3",
            "language": "python",
            "name": "python3"
        },
        "language_info": {
            "codemirror_mode": {
                "name": "ipython",
                "version": 3
            },
            "file_extension": ".py",
            "mimetype": "text/x-python",
            "name": "python",
            "nbconvert_exporter": "python",
            "pygments_lexer": "ipython3",
            "version": "3.8.5"
        }
    },
    "nbformat": 4,
    "nbformat_minor": 4
}
